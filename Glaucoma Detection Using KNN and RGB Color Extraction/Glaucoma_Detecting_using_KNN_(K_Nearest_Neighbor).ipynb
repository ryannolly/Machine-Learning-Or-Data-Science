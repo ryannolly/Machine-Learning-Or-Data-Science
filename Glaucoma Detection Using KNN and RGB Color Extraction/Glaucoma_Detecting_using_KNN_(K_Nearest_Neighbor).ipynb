{
  "nbformat": 4,
  "nbformat_minor": 0,
  "metadata": {
    "colab": {
      "name": "Glaucoma Detecting using KNN (K-Nearest Neighbor).ipynb",
      "provenance": [],
      "collapsed_sections": [],
      "toc_visible": true
    },
    "kernelspec": {
      "name": "python3",
      "display_name": "Python 3"
    }
  },
  "cells": [
    {
      "cell_type": "markdown",
      "metadata": {
        "id": "VsducXSpKwp-"
      },
      "source": [
        "# Klasifikasi Penyakti Glukoma dengan Algoritma KNN (K-Nearest Neighbor)\n",
        "\n",
        "Program python berikut adalah program yang dibuat untuk memenuhi tugas mata kuliah pengolahan citra digital. Berikut adalah link dataset gambar https://www.kaggle.com/sshikamaru/glaucoma-detection. Gambar satu persatu di ekstraksi cirinya berdasarkan warna (RGB) lalu data hasil dari ekstraksi tersebut digunakan untuk membuat program klasifikasi dengan hasil seperti dibawah berikut :"
      ]
    },
    {
      "cell_type": "markdown",
      "metadata": {
        "id": "c473mo6_N2Qg"
      },
      "source": [
        "**Pastikan file Data(CSV)Coba.csv sudah diupload pada runtime directori!**"
      ]
    },
    {
      "cell_type": "markdown",
      "metadata": {
        "id": "8Qswm8jaLzJH"
      },
      "source": [
        "1. Pemanggilan Library\n",
        "\n",
        "\n",
        "\n",
        "\n"
      ]
    },
    {
      "cell_type": "code",
      "metadata": {
        "id": "1efUzpDOL2BH"
      },
      "source": [
        "import numpy as np\n",
        "import matplotlib.pyplot as plt\n",
        "import pandas as pd"
      ],
      "execution_count": null,
      "outputs": []
    },
    {
      "cell_type": "markdown",
      "metadata": {
        "id": "AAlwxsOpL-w1"
      },
      "source": [
        "2. Mengimpor dataset yang telah diubah menjadi csv"
      ]
    },
    {
      "cell_type": "code",
      "metadata": {
        "id": "_BOgJowVMEVW"
      },
      "source": [
        "dataset = pd.read_csv('Data(CSV)Coba.csv')\n",
        "#Mengambil fitur dari data\n",
        "X = dataset.iloc[:, :-1].values\n",
        "#Mengambil label (Output) dari data yang mana merupakan kolom terakhir pada csv\n",
        "y = dataset.iloc[:, -1].values"
      ],
      "execution_count": null,
      "outputs": []
    },
    {
      "cell_type": "markdown",
      "metadata": {
        "id": "1cGHVHZNMOV3"
      },
      "source": [
        "3. Membagi dataset menjadi data training dan data testing"
      ]
    },
    {
      "cell_type": "code",
      "metadata": {
        "id": "_pkDC-D9MS0X"
      },
      "source": [
        "from sklearn.model_selection import train_test_split\n",
        "X_train, X_test, y_train, y_test = train_test_split(X, y, test_size = 0.25, random_state = 0)"
      ],
      "execution_count": null,
      "outputs": []
    },
    {
      "cell_type": "code",
      "metadata": {
        "colab": {
          "base_uri": "https://localhost:8080/"
        },
        "id": "Hl-o4-suMhfm",
        "outputId": "e117d972-f482-47c3-8f7e-fb1891debd84"
      },
      "source": [
        "#Coba datanya ditampilkan\n",
        "print(X_train)"
      ],
      "execution_count": null,
      "outputs": [
        {
          "output_type": "stream",
          "text": [
            "[[122.14942614  70.8510677   26.69898017]\n",
            " [138.42876546  88.39588626  45.11291297]\n",
            " [112.19118627  69.31789557  30.43115664]\n",
            " [112.59987259  64.2639478   34.56357861]\n",
            " [117.37951342  65.53741328  43.13257504]\n",
            " [110.3372879   76.18566338  37.78205029]\n",
            " [108.42335876  60.72043212  20.85156012]\n",
            " [121.93441582  78.0594368   33.10719315]\n",
            " [114.7245067   68.00539716  23.27881829]\n",
            " [125.92907476  82.31070693  42.35307121]\n",
            " [139.69725529  85.98005644  58.16108481]\n",
            " [105.00406679  72.60466242  39.11527061]\n",
            " [106.54635445  71.56251891  44.8453153 ]\n",
            " [119.64282751  74.26531776  22.58877484]\n",
            " [106.01555443  77.56399107  41.56883828]\n",
            " [ 88.69840002  56.64843067  32.35141754]\n",
            " [157.42819722  95.27757645  41.77715969]\n",
            " [112.74775044  73.36079135  32.78107897]\n",
            " [157.01463318  94.9620773   41.2517484 ]\n",
            " [104.57616695  62.01393     25.7014459 ]\n",
            " [112.19943301  75.48552577  49.95616325]\n",
            " [115.339938    76.03571097  30.01558383]\n",
            " [125.13745975  74.65505775  29.63971535]\n",
            " [ 56.14353991  34.71458292  12.90262969]\n",
            " [113.08330568  64.4155558   21.00078217]\n",
            " [153.60816828  90.08534129  37.78534826]\n",
            " [122.05776389 100.50596189  59.35673587]\n",
            " [145.92703708  94.19854387  45.35446374]\n",
            " [113.88427035  78.83459107  35.41812897]\n",
            " [115.77724028  69.54947058  21.52851788]\n",
            " [111.59198586  72.00133546  29.15018479]\n",
            " [106.42230972  68.17620039  37.51222754]\n",
            " [140.43865903  71.66402721  30.86670955]\n",
            " [124.62100252  74.23536984  30.51258453]\n",
            " [110.16583792  73.51051251  34.05016168]\n",
            " [118.57408126  68.84009584  16.44727961]\n",
            " [101.05206839  52.9892923   15.28756571]\n",
            " [121.01313798  97.43213892  55.31090148]\n",
            " [132.15098588  78.53248517  24.96758143]\n",
            " [100.65447648  64.78110568  39.52163029]\n",
            " [118.59013732  80.33132331  43.00901445]\n",
            " [120.61296368  70.66053279  31.60292514]\n",
            " [146.82084529  75.4257795   20.37564596]\n",
            " [119.56989622  72.43395217  23.27522198]]\n"
          ],
          "name": "stdout"
        }
      ]
    },
    {
      "cell_type": "code",
      "metadata": {
        "colab": {
          "base_uri": "https://localhost:8080/"
        },
        "id": "G2Hx8QOyMmev",
        "outputId": "886dc258-91f6-4420-96d0-4b7e74e37a50"
      },
      "source": [
        "print(y_train)"
      ],
      "execution_count": null,
      "outputs": [
        {
          "output_type": "stream",
          "text": [
            "[0 0 1 1 0 0 0 0 0 1 0 1 1 1 0 1 0 1 0 1 1 1 1 0 0 0 0 1 1 0 1 1 1 0 1 1 1\n",
            " 0 0 1 1 0 0 0]\n"
          ],
          "name": "stdout"
        }
      ]
    },
    {
      "cell_type": "code",
      "metadata": {
        "colab": {
          "base_uri": "https://localhost:8080/"
        },
        "id": "99vzVUBBMnh2",
        "outputId": "185c115f-9d04-4cd5-c10d-677522442f8a"
      },
      "source": [
        "print(X_test)"
      ],
      "execution_count": null,
      "outputs": [
        {
          "output_type": "stream",
          "text": [
            "[[115.93447955  78.23002434  42.6723005 ]\n",
            " [126.77745883  78.69810597  27.41141796]\n",
            " [124.30750895  76.27809397  17.80818065]\n",
            " [107.1930987   73.20837927  39.14631907]\n",
            " [106.23123709  72.8899107   39.21686125]\n",
            " [105.72339535  64.61355845  36.59877618]\n",
            " [141.1912144   90.3333772   39.96176386]\n",
            " [115.20204194  69.96487061  23.23696677]\n",
            " [ 93.43892193  58.7100838   39.50155926]\n",
            " [128.12419685  84.82455095  39.2255036 ]\n",
            " [133.26247168  75.61889919  25.51303434]\n",
            " [105.67717886  69.93604883  36.3292044 ]\n",
            " [116.92095645  66.07390706  23.1360871 ]\n",
            " [107.917123    61.43901014  15.50282907]\n",
            " [109.21414073  64.13976987  23.14375814]]\n"
          ],
          "name": "stdout"
        }
      ]
    },
    {
      "cell_type": "code",
      "metadata": {
        "colab": {
          "base_uri": "https://localhost:8080/"
        },
        "id": "R5EOZrX3Mo_H",
        "outputId": "b3e7ec8a-0837-4394-adb0-e918a23b9e1c"
      },
      "source": [
        "print(y_test)"
      ],
      "execution_count": null,
      "outputs": [
        {
          "output_type": "stream",
          "text": [
            "[1 0 0 1 1 1 0 0 0 1 1 1 0 0 0]\n"
          ],
          "name": "stdout"
        }
      ]
    },
    {
      "cell_type": "markdown",
      "metadata": {
        "id": "kIriH0fdMrzn"
      },
      "source": [
        "4. Mengubah data fitur menjadi data yang berada di suatu rentang skala"
      ]
    },
    {
      "cell_type": "code",
      "metadata": {
        "id": "sX1OKzebMwBH"
      },
      "source": [
        "from sklearn.preprocessing import StandardScaler\n",
        "sc = StandardScaler()\n",
        "X_train = sc.fit_transform(X_train)\n",
        "X_test = sc.transform(X_test)"
      ],
      "execution_count": null,
      "outputs": []
    },
    {
      "cell_type": "code",
      "metadata": {
        "colab": {
          "base_uri": "https://localhost:8080/"
        },
        "id": "rkefc4G0M3Tu",
        "outputId": "7111afef-f501-4862-c44b-41e32235b2e1"
      },
      "source": [
        "#Melihat hasil perubahan\n",
        "print(X_train)"
      ],
      "execution_count": null,
      "outputs": [
        {
          "output_type": "stream",
          "text": [
            "[[ 1.86687058e-01 -2.80726466e-01 -6.59813929e-01]\n",
            " [ 1.09223738e+00  1.16465580e+00  1.02368651e+00]\n",
            " [-3.67247417e-01 -4.07032692e-01 -3.18598351e-01]\n",
            " [-3.44513938e-01 -8.23388464e-01  5.92098161e-02]\n",
            " [-7.86428732e-02 -7.18477467e-01  8.42633401e-01]\n",
            " [-4.70371888e-01  1.58749723e-01  3.53459749e-01]\n",
            " [-5.76835616e-01 -1.11531139e+00 -1.19441641e+00]\n",
            " [ 1.74726949e-01  3.13115461e-01 -7.39407491e-02]\n",
            " [-2.26329591e-01 -5.15159312e-01 -9.72503460e-01]\n",
            " [ 3.96932814e-01  6.63344815e-01  7.71366983e-01]\n",
            " [ 1.16279806e+00  9.65634218e-01  2.21662032e+00]\n",
            " [-7.67036267e-01 -1.36261324e-01  4.75349897e-01]\n",
            " [-6.81245372e-01 -2.22115489e-01  9.99221296e-01]\n",
            " [ 4.72556508e-02  5.47259835e-04 -1.03559093e+00]\n",
            " [-7.10771517e-01  2.72299509e-01  6.99668204e-01]\n",
            " [-1.67405107e+00 -1.45077218e+00 -1.43037806e-01]\n",
            " [ 2.14909485e+00  1.73158517e+00  7.18714064e-01]\n",
            " [-3.36288123e-01 -7.39696942e-02 -1.03755855e-01]\n",
            " [ 2.12609005e+00  1.70559363e+00  6.70678148e-01]\n",
            " [-7.90838512e-01 -1.00875008e+00 -7.51013859e-01]\n",
            " [-3.66788686e-01  1.01070786e-01  1.46648241e+00]\n",
            " [-1.92095768e-01  1.46396301e-01 -3.56592245e-01]\n",
            " [ 3.52898643e-01  3.26549313e-02 -3.90956156e-01]\n",
            " [-3.48493930e+00 -3.25773271e+00 -1.92115024e+00]\n",
            " [-3.17622614e-01 -8.10898651e-01 -1.18077373e+00]\n",
            " [ 1.93660291e+00  1.30383697e+00  3.53761267e-01]\n",
            " [ 1.81588277e-01  2.16231152e+00  2.32593315e+00]\n",
            " [ 1.50933429e+00  1.64269200e+00  1.04577038e+00]\n",
            " [-2.73068360e-01  3.76974443e-01  1.37337391e-01]\n",
            " [-1.67770505e-01 -3.87955013e-01 -1.13252531e+00]\n",
            " [-4.00578384e-01 -1.85964778e-01 -4.35711664e-01]\n",
            " [-6.88145452e-01 -5.01088151e-01  3.28791107e-01]\n",
            " [ 1.20403920e+00 -2.13753003e-01 -2.78777769e-01]\n",
            " [ 3.24170326e-01 -1.91991801e-03 -3.11153777e-01]\n",
            " [-4.79908921e-01 -6.16353222e-02  1.22704884e-02]\n",
            " [-1.21941516e-02 -4.46394926e-01 -1.59707934e+00]\n",
            " [-9.86869107e-01 -1.75222036e+00 -1.70310661e+00]\n",
            " [ 1.23480186e-01  1.90908296e+00  1.95604128e+00]\n",
            " [ 7.43031233e-01  3.52086268e-01 -8.18107682e-01]\n",
            " [-1.00898545e+00 -7.80783816e-01  5.12501477e-01]\n",
            " [-1.13010213e-02  5.00278666e-01  8.31336829e-01]\n",
            " [ 1.01220194e-01 -2.96423168e-01 -2.11468994e-01]\n",
            " [ 1.55905304e+00  9.61487516e-02 -1.23792704e+00]\n",
            " [ 4.31987938e-02 -1.50324824e-01 -9.72832254e-01]]\n"
          ],
          "name": "stdout"
        }
      ]
    },
    {
      "cell_type": "code",
      "metadata": {
        "colab": {
          "base_uri": "https://localhost:8080/"
        },
        "id": "kJJrR0hGM6F1",
        "outputId": "6fc5b70d-8bcb-4fba-e3b8-e8b1754bb974"
      },
      "source": [
        "print(X_test)"
      ],
      "execution_count": null,
      "outputs": [
        {
          "output_type": "stream",
          "text": [
            "[[-0.15902395  0.32716885  0.80055264]\n",
            " [ 0.44412481  0.36573049 -0.59467905]\n",
            " [ 0.30673201  0.16636437 -1.47265848]\n",
            " [-0.64526974 -0.08652575  0.47818851]\n",
            " [-0.69877401 -0.11276192  0.48463786]\n",
            " [-0.72702308 -0.79458674  0.24527849]\n",
            " [ 1.24590065  1.32427074  0.55274085]\n",
            " [-0.19976634 -0.35373341 -0.97632975]\n",
            " [-1.41035602 -1.28092848  0.51066648]\n",
            " [ 0.51903811  0.87044103  0.48542799]\n",
            " [ 0.80485845  0.11205839 -0.76823945]\n",
            " [-0.72959391 -0.35610781  0.22063279]\n",
            " [-0.10415044 -0.67427988 -0.98555271]\n",
            " [-0.60499536 -1.05611329 -1.68342608]\n",
            " [-0.53284778 -0.83361853 -0.98485138]]\n"
          ],
          "name": "stdout"
        }
      ]
    },
    {
      "cell_type": "markdown",
      "metadata": {
        "id": "_f7aBL1wM8G-"
      },
      "source": [
        "5. Melatih model KNN dengan data training"
      ]
    },
    {
      "cell_type": "code",
      "metadata": {
        "colab": {
          "base_uri": "https://localhost:8080/"
        },
        "id": "KBZV0O-LNCRW",
        "outputId": "aad6d380-5025-48b8-d972-9957d6c4a3ed"
      },
      "source": [
        "from sklearn.neighbors import KNeighborsClassifier\n",
        "#Parameter n_neighbors berisi tentang berapa banyak N tetangga yang ingin dibuat\n",
        "classifier = KNeighborsClassifier(n_neighbors = 5, metric='minkowski', p = 2)\n",
        "classifier.fit(X_train, y_train)"
      ],
      "execution_count": null,
      "outputs": [
        {
          "output_type": "execute_result",
          "data": {
            "text/plain": [
              "KNeighborsClassifier(algorithm='auto', leaf_size=30, metric='minkowski',\n",
              "                     metric_params=None, n_jobs=None, n_neighbors=5, p=2,\n",
              "                     weights='uniform')"
            ]
          },
          "metadata": {
            "tags": []
          },
          "execution_count": 15
        }
      ]
    },
    {
      "cell_type": "markdown",
      "metadata": {
        "id": "nkbafDNhNFF5"
      },
      "source": [
        "6. Mencoba memprediksi model dengan data trainingnya sendiri"
      ]
    },
    {
      "cell_type": "code",
      "metadata": {
        "colab": {
          "base_uri": "https://localhost:8080/"
        },
        "id": "thLU4W9TNKGe",
        "outputId": "c2b1d3f5-f2ea-4059-8471-68c469839aea"
      },
      "source": [
        "print(classifier.predict(sc.transform([[122.14942614,  70.8510677,   26.69898017]])))"
      ],
      "execution_count": null,
      "outputs": [
        {
          "output_type": "stream",
          "text": [
            "[0]\n"
          ],
          "name": "stdout"
        }
      ]
    },
    {
      "cell_type": "markdown",
      "metadata": {
        "id": "jY1P9V1RNUsu"
      },
      "source": [
        "7. Mencoba melihat hasil prediksi dengan menggunakan data test"
      ]
    },
    {
      "cell_type": "code",
      "metadata": {
        "colab": {
          "base_uri": "https://localhost:8080/"
        },
        "id": "qEO-BOFfNZXv",
        "outputId": "5bd5704f-9b8c-452b-ee53-7100f7bc3337"
      },
      "source": [
        "y_pred = classifier.predict(X_test)\n",
        "#pada kolom kiri, menunjukkan hasil prediksi\n",
        "#kolom kanan, menunjukkan hasil seharusnya\n",
        "#Apabila sama antara kolom kiri dan kanan, maka hasil prediksi benar\n",
        "print(np.concatenate((y_pred.reshape(len(y_pred),1), y_test.reshape(len(y_test),1)),1))"
      ],
      "execution_count": null,
      "outputs": [
        {
          "output_type": "stream",
          "text": [
            "[[1 1]\n",
            " [0 0]\n",
            " [0 0]\n",
            " [1 1]\n",
            " [1 1]\n",
            " [1 1]\n",
            " [0 0]\n",
            " [0 0]\n",
            " [1 0]\n",
            " [1 1]\n",
            " [0 1]\n",
            " [1 1]\n",
            " [0 0]\n",
            " [1 0]\n",
            " [0 0]]\n"
          ],
          "name": "stdout"
        }
      ]
    },
    {
      "cell_type": "markdown",
      "metadata": {
        "id": "TJ8lzv7PNcKv"
      },
      "source": [
        "8. Menghitung Akurasi dari Model"
      ]
    },
    {
      "cell_type": "code",
      "metadata": {
        "colab": {
          "base_uri": "https://localhost:8080/"
        },
        "id": "QAVqlor1NhBu",
        "outputId": "f0c3f157-9835-4a86-b35b-bf724e13c386"
      },
      "source": [
        "from sklearn.metrics import confusion_matrix, accuracy_score\n",
        "cm = confusion_matrix(y_test, y_pred)\n",
        "print(cm)\n",
        "print('Akurasi dari model adalah : ', accuracy_score(y_test, y_pred))"
      ],
      "execution_count": null,
      "outputs": [
        {
          "output_type": "stream",
          "text": [
            "[[6 2]\n",
            " [1 6]]\n",
            "Akurasi dari model adalah :  0.8\n"
          ],
          "name": "stdout"
        }
      ]
    }
  ]
}